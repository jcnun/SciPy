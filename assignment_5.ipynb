{
  "nbformat": 4,
  "nbformat_minor": 0,
  "metadata": {
    "colab": {
      "name": "assignment_5.ipynb",
      "provenance": [],
      "collapsed_sections": []
    },
    "kernelspec": {
      "name": "python3",
      "display_name": "Python 3"
    },
    "language_info": {
      "name": "python"
    }
  },
  "cells": [
    {
      "cell_type": "markdown",
      "source": [
        " Jacivania Cordeiro Nunes Matr. 9040898- \n",
        "The Performance of Numpy vs. Regular Python Lists.\n",
        "\n",
        "\n",
        "\n"
      ],
      "metadata": {
        "id": "rlUJ-AHOsJdm"
      }
    },
    {
      "cell_type": "markdown",
      "source": [
        "Task 1- Equation RMSE:"
      ],
      "metadata": {
        "id": "PTDt7bDDRwti"
      }
    },
    {
      "cell_type": "code",
      "execution_count": 3,
      "metadata": {
        "id": "b-6-96p-YtSV"
      },
      "outputs": [],
      "source": [
        "\n",
        "import math, timeit\n",
        "import numpy as np\n",
        "import pandas as pd\n",
        "\n",
        "Experiment = 0.995659\n",
        "\n",
        "# Task 1.1\n",
        "def rmse_py(densities):\n",
        "  total_err = 0.0\n",
        "  for Xi in densities:\n",
        "    err = (Xi - Experiment)**2\n",
        "    total_err += err\n",
        "  total_err /= len(densities)\n",
        "  return math.sqrt(total_err,)\n",
        "\n",
        "  # Task 1.2\n",
        "def rmse_numpy(densities): \n",
        "  return np.sqrt(np.mean((densities - Experiment)**2))\n",
        "\n"
      ]
    },
    {
      "cell_type": "markdown",
      "source": [
        "Task 2 - Read in the Data contained in the CSV- formatted file."
      ],
      "metadata": {
        "id": "eDru9MeMSAqc"
      }
    },
    {
      "cell_type": "code",
      "source": [
        "dfdensity = pd.read_csv('/tmp/density.csv')\n",
        "dfdensity.dropna(inplace=True)\n",
        "print(round(rmse_py(dfdensity[\"Density\"]),2))\n",
        "print(round(rmse_numpy(dfdensity[\"Density\"]),2))"
      ],
      "metadata": {
        "colab": {
          "base_uri": "https://localhost:8080/"
        },
        "id": "tA8Iuhh_SMWp",
        "outputId": "939a9358-1788-44ff-ecae-1a9dab09dae9"
      },
      "execution_count": 4,
      "outputs": [
        {
          "output_type": "stream",
          "name": "stdout",
          "text": [
            "0.02\n",
            "0.02\n"
          ]
        }
      ]
    },
    {
      "cell_type": "markdown",
      "source": [
        "Task 3- Create a plot of the simulation time an density"
      ],
      "metadata": {
        "id": "zlc2FmqjSTzL"
      }
    },
    {
      "cell_type": "code",
      "source": [
        "plot = dfdensity[\"Density\"].plot.line(color ='red',label= \"the simulation time an density \")\n",
        "plot.grid()\n",
        "plot.legend()\n",
        "title=(\"Simulation time of density\")"
      ],
      "metadata": {
        "colab": {
          "base_uri": "https://localhost:8080/",
          "height": 265
        },
        "id": "k_qQoCOoSczi",
        "outputId": "9f27d91f-bbbe-43a8-fa1d-63d054bc52d5"
      },
      "execution_count": 10,
      "outputs": [
        {
          "output_type": "display_data",
          "data": {
            "text/plain": [
              "<Figure size 432x288 with 1 Axes>"
            ],
            "image/png": "[encoded data removed]"
          },
          "metadata": {
            "needs_background": "light"
          }
        }
      ]
    },
    {
      "cell_type": "markdown",
      "source": [
        "Task 4- Evaluate the speed performance between your functions( task 1) by computing the RMSE of simulated water density."
      ],
      "metadata": {
        "id": "R9t1T2c8SfGV"
      }
    },
    {
      "cell_type": "code",
      "source": [
        "print(round(timeit.timeit('rmse_py(dfdensity[\"Density\"])', 'from __main__ import rmse_py, dfdensity', number=20000),2))\n",
        "print(round(timeit.timeit('rmse_numpy(dfdensity[\"Density\"])', 'from __main__ import rmse_numpy, dfdensity', number=20000),2))"
      ],
      "metadata": {
        "colab": {
          "base_uri": "https://localhost:8080/"
        },
        "id": "ar81ONanS8eZ",
        "outputId": "3e7a443c-cadd-4824-86a2-2f357318efbe"
      },
      "execution_count": null,
      "outputs": [
        {
          "output_type": "stream",
          "name": "stdout",
          "text": [
            "4.86\n",
            "7.58\n"
          ]
        }
      ]
    }
  ]
}
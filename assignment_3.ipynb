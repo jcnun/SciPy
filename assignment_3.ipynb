{
  "nbformat": 4,
  "nbformat_minor": 0,
  "metadata": {
    "colab": {
      "name": "assignment_3.ipynb",
      "provenance": [],
      "collapsed_sections": []
    },
    "kernelspec": {
      "name": "python3",
      "display_name": "Python 3"
    },
    "language_info": {
      "name": "python"
    }
  },
  "cells": [
    {
      "cell_type": "markdown",
      "source": [
        "Jacivania Cordeiro Nunes- Matr. 9040898\n",
        "\n",
        "Task 3 : Value of the Herd Immunity Threshold\n"
      ],
      "metadata": {
        "id": "OG4TS2HNg9aC"
      }
    },
    {
      "cell_type": "code",
      "source": [
        "def diseases (CommonCold, Influenza, Measles, \n",
        "             Sars_Covid_2, Polio, Chickenpox, Ebola,\n",
        "             Smallpox):\n",
        "  \n",
        "   return [100*(1-(1/d)) for d in (CommonCold, Influenza, Measles, Sars_Covid_2, Polio, Chickenpox, Ebola, Smallpox)]\n",
        "\n",
        "basic_reproduction_numbers = diseases(3.0, 1.3, 18, 5.1, 7.0, 13, 1.8, 6.0)\n",
        "print(f'Estimated basic reproduction numbers for virus that cause diseases {[round(d,) for d in basic_reproduction_numbers]}%.')\n"
      ],
      "metadata": {
        "id": "zVFLFE-thJSE",
        "colab": {
          "base_uri": "https://localhost:8080/"
        },
        "outputId": "2bd09519-ece8-4576-8ea1-309f0c28fc59"
      },
      "execution_count": 10,
      "outputs": [
        {
          "output_type": "stream",
          "name": "stdout",
          "text": [
            "Estimated basic reproduction numbers for virus that cause diseases [67, 23, 94, 80, 86, 92, 44, 83]%.\n"
          ]
        }
      ]
    }
  ]
}
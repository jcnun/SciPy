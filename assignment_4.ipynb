{
  "nbformat": 4,
  "nbformat_minor": 0,
  "metadata": {
    "colab": {
      "name": "assignment_4.ipynb",
      "provenance": [],
      "collapsed_sections": []
    },
    "kernelspec": {
      "name": "python3",
      "display_name": "Python 3"
    },
    "language_info": {
      "name": "python"
    }
  },
  "cells": [
    {
      "cell_type": "markdown",
      "source": [
        "Jacivania Cordeiro Nunes, Matr. 9040898\n",
        "\n",
        "World Happiness Report\n",
        "\n"
      ],
      "metadata": {
        "id": "_MU-_tg7xrE0"
      }
    },
    {
      "cell_type": "code",
      "execution_count": null,
      "metadata": {
        "colab": {
          "base_uri": "https://localhost:8080/",
          "height": 356
        },
        "id": "Qm5xKqwdxnfD",
        "outputId": "d3cae51b-8448-43db-abb7-b700419ab9d7"
      },
      "outputs": [
        {
          "output_type": "execute_result",
          "data": {
            "text/plain": [
              "<matplotlib.legend.Legend at 0x7fccc6e50cd0>"
            ]
          },
          "metadata": {},
          "execution_count": 120
        },
        {
          "output_type": "display_data",
          "data": {
            "text/plain": [
              "<Figure size 432x288 with 1 Axes>"
            ],
            "image/png": "[encoded data removed]"
          },
          "metadata": {
            "needs_background": "light"
          }
        }
      ],
      "source": [
        "import pandas as pd\n",
        "import numpy as np\n",
        "\n",
        "#1.1 Read the 3 datasets\n",
        "df19 = pd.read_csv('/tmp/report_2013_to_2019.csv')\n",
        "df20 = pd.read_csv('/tmp/report_2020.csv')\n",
        "df21 = pd.read_csv('/tmp/report_2021.csv')\n",
        "\n",
        "#1.2 Remove the columns Negative affect and Positive affect\n",
        "df19.drop(columns=[\"Positive affect\", \"Negative affect\"], inplace=True)\n",
        "\n",
        "#1.3 Add the column \"YEAR\" \n",
        "df20[\"year\"] = 2020\n",
        "df21[\"year\"] = 2021\n",
        "\n",
        "#1.4 Rename the column headers\n",
        "df19.rename(columns={\"Life Ladder\": \"Ladder score\", \"Log GDP per capita\": \"Logged GDP per capita\", \"Healthy life expectancy at birth\": \"Healthy life expectancy\"}, inplace=True)\n",
        "\n",
        "#1.5 Merge all together\n",
        "df = pd.concat([df19, df20, df21])\n",
        "\n",
        "#2.1 Remove empty cells\n",
        "df.dropna(inplace=True)\n",
        "\n",
        "#2.2 Sort \n",
        "df.sort_values([\"Country name\", \"year\"], inplace=True)\n",
        "\n",
        "#2.3 Delete all data that don´t have full range\n",
        "countries = df[\"Country name\"].unique()\n",
        "for country in countries:\n",
        "  entries = (df.loc[(df[\"Country name\"] == country) & (df[\"year\"] >= 2013) & (df[\"year\"] <= 2021)])\n",
        "  hasAllYears = (len(entries[\"year\"].unique()) == 2021 - 2013 + 1)\n",
        "  if not hasAllYears:\n",
        "    df.drop(df[df[\"Country name\"] == country].index, inplace=True)\n",
        "\n",
        "#3.1  Save Tasks 1 and 2\n",
        "df.to_csv(\"/tmp/report_processed.csv\")\n",
        "\n",
        "#3.2 Calculate everage\n",
        "countries = df[\"Country name\"].unique()\n",
        "avgScores = {}\n",
        "for country in countries:\n",
        "  entries = (df.loc[(df[\"Country name\"] == country) & (df[\"year\"] >= 2013) & (df[\"year\"] <= 2021)])\n",
        "  avg = entries[\"Ladder score\"].mean()\n",
        "  avgScores[country] = avg\n",
        "\n",
        "#3.3 plots\n",
        "sortedScoresCountry = sorted(avgScores, reverse=True, key=avgScores.get)\n",
        "sortedScoresCountry = sortedScoresCountry[:5] + sortedScoresCountry[-5:]\n",
        "sortedScoresValues = [avgScores[country] for country in sortedScoresCountry]\n",
        "dfPlot = pd.DataFrame({'Countries': sortedScoresCountry, 'Ladder score avg': sortedScoresValues})\n",
        "plot = dfPlot.plot.bar(x='Countries', y='Ladder score avg',color ='green',label=\"5 happiest / 5 unhappiest countries \")\n",
        "plot.grid()\n",
        "plot.legend()\n",
        "\n",
        "\n",
        "\n",
        "\n"
      ]
    }
  ]
}
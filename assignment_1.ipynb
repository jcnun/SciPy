{
  "nbformat": 4,
  "nbformat_minor": 0,
  "metadata": {
    "colab": {
      "name": "Jacivania Cordeiro Nunes.ipynb",
      "provenance": []
    },
    "kernelspec": {
      "name": "python3",
      "display_name": "Python 3"
    },
    "language_info": {
      "name": "python"
    }
  },
  "cells": [
    {
      "cell_type": "markdown",
      "source": [
        "Value of the herd immunity Threshold "
      ],
      "metadata": {
        "id": "DPMrp1mGjz8G"
      }
    },
    {
      "cell_type": "code",
      "execution_count": null,
      "metadata": {
        "colab": {
          "base_uri": "https://localhost:8080/"
        },
        "id": "RWvOAOXZJGVU",
        "outputId": "db588dd0-feba-4039-fbb4-3221c7031439"
      },
      "outputs": [
        {
          "output_type": "stream",
          "name": "stdout",
          "text": [
            "The value of the herd immunity threshold in Werstern Europe is: 54.54545454545454%\n",
            "The basic reproduction number of the Delta variant is : 80.31496062992126%\n"
          ]
        }
      ],
      "source": [
        "\n",
        "basic_reproduction_number_in_Werstern_Europe = 2.2\n",
        "basic_reproduction_number_Delta = 5.08\n",
        "\n",
        "Pc1 = 100 *(1-(1/basic_reproduction_number_in_Werstern_Europe))\n",
        "Pc2 = 100 *(1-(1/basic_reproduction_number_Delta))\n",
        "\n",
        "print(f'The value of the herd immunity threshold in Werstern Europe is: {Pc1}'+ \"%\")\n",
        "print(f'The basic reproduction number of the Delta variant is : {Pc2}'+ \"%\")"
      ]
    }
  ]
}